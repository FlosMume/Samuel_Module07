{
 "cells": [
  {
   "cell_type": "code",
   "execution_count": 2,
   "id": "46071361-64ea-4e74-927a-670d8a6afc27",
   "metadata": {},
   "outputs": [
    {
     "name": "stdout",
     "output_type": "stream",
     "text": [
      "Requirement already satisfied: nltk in c:\\users\\ch939\\anaconda3\\lib\\site-packages (3.9.1)\n",
      "Requirement already satisfied: click in c:\\users\\ch939\\anaconda3\\lib\\site-packages (from nltk) (8.1.8)\n",
      "Requirement already satisfied: joblib in c:\\users\\ch939\\anaconda3\\lib\\site-packages (from nltk) (1.4.2)\n",
      "Requirement already satisfied: regex>=2021.8.3 in c:\\users\\ch939\\anaconda3\\lib\\site-packages (from nltk) (2024.11.6)\n",
      "Requirement already satisfied: tqdm in c:\\users\\ch939\\anaconda3\\lib\\site-packages (from nltk) (4.67.1)\n",
      "Requirement already satisfied: colorama in c:\\users\\ch939\\appdata\\roaming\\python\\python313\\site-packages (from click->nltk) (0.4.6)\n"
     ]
    }
   ],
   "source": [
    "!pip install nltk"
   ]
  },
  {
   "cell_type": "code",
   "execution_count": 4,
   "id": "5630af98-ae08-4302-881e-020564b719a1",
   "metadata": {},
   "outputs": [
    {
     "name": "stdout",
     "output_type": "stream",
     "text": [
      "Collecting rouge\n",
      "  Downloading rouge-1.0.1-py3-none-any.whl.metadata (4.1 kB)\n",
      "Requirement already satisfied: six in c:\\users\\ch939\\appdata\\roaming\\python\\python313\\site-packages (from rouge) (1.17.0)\n",
      "Downloading rouge-1.0.1-py3-none-any.whl (13 kB)\n",
      "Installing collected packages: rouge\n",
      "Successfully installed rouge-1.0.1\n"
     ]
    }
   ],
   "source": [
    "!pip install rouge"
   ]
  },
  {
   "cell_type": "markdown",
   "id": "b7bb418a-103d-40e2-9d4a-aa1969d2f6da",
   "metadata": {},
   "source": [
    "Reference: http://www.sniper97.cn/index.php/note/deep-learning/base/3890/"
   ]
  },
  {
   "cell_type": "code",
   "execution_count": 11,
   "id": "3e6b7600-4055-4d19-bb25-0f44fe34040d",
   "metadata": {},
   "outputs": [
    {
     "name": "stdout",
     "output_type": "stream",
     "text": [
      "BLEU score: 0.42\n",
      "ROUGE scores:\n",
      "rouge-1: Precision=1.0, Recall=1.0, F1=1.0\n",
      "rouge-2: Precision=0.62, Recall=0.62, F1=0.62\n",
      "rouge-l: Precision=0.78, Recall=0.78, F1=0.78\n"
     ]
    }
   ],
   "source": [
    "from nltk.translate.bleu_score import sentence_bleu\n",
    "from rouge import Rouge\n",
    "\n",
    "# Define the two Chinese sentences\n",
    "reference = '这花儿开的真美丽啊'\n",
    "candidate = '这开的花儿真美丽啊'\n",
    "\n",
    "# Tokenize the sentences into characters for BLEU and ROUGE\n",
    "reference_tokens = list(reference)\n",
    "candidate_tokens = list(candidate)\n",
    "\n",
    "# Calculate BLEU score\n",
    "bleu_score = sentence_bleu([reference_tokens], candidate_tokens)\n",
    "\n",
    "# Calculate ROUGE scores\n",
    "rouge = Rouge()\n",
    "rouge_scores = rouge.get_scores(' '.join(list(candidate)), ' '.join(list(reference)))[0]\n",
    "\n",
    "# Print the results\n",
    "print(f\"BLEU score: {round(bleu_score,2)}\")\n",
    "print(\"ROUGE scores:\")\n",
    "for metric, scores in rouge_scores.items():\n",
    "    print(f\"{metric}: Precision={round(scores['p'],2)}, Recall={round(scores['r'],2)}, F1={round(scores['f'],2)}\")"
   ]
  },
  {
   "cell_type": "code",
   "execution_count": null,
   "id": "cc972c2a-e162-47c0-bb60-30fac055b373",
   "metadata": {},
   "outputs": [],
   "source": []
  }
 ],
 "metadata": {
  "kernelspec": {
   "display_name": "Python 3 (ipykernel)",
   "language": "python",
   "name": "python3"
  },
  "language_info": {
   "codemirror_mode": {
    "name": "ipython",
    "version": 3
   },
   "file_extension": ".py",
   "mimetype": "text/x-python",
   "name": "python",
   "nbconvert_exporter": "python",
   "pygments_lexer": "ipython3",
   "version": "3.13.5"
  }
 },
 "nbformat": 4,
 "nbformat_minor": 5
}
